{
 "cells": [
  {
   "cell_type": "code",
   "execution_count": null,
   "id": "2968e57d-1faa-4ab0-9bee-d03018a6a9ab",
   "metadata": {},
   "outputs": [],
   "source": [
    "#1. What are the five key concepts of Object-Oriented Programming (OOP)?\n",
    "'''\n",
    "The 5 key features of OOPS are classses and object,inheritance,encapsulation,polymorphism,abstraction . explained below\n",
    "Classes and Objects:\n",
    "Classes-are like blueprints for creating objects. They define the properties (attributes) and behaviors (methods) that the objects created from them will have. \n",
    "For example, if we think of a class as a cookie cutter, and the objects as the cookies.\n",
    "Each cookie has the same shape, but they can have different decorations (attributes).\n",
    "Objects-are instances of classes. \n",
    "Each object can have its own unique state, but it will share the structure and behavior defined by its class.\n",
    "\n",
    "Inheritance:\n",
    "Inheritance allows a new class (called a subclass or child class) to inherit properties and methods from an existing class (called a superclass or parent class).\n",
    "This helps in code reusability and creates a natural hierarchy. \n",
    "For instance, if we have a Vehicle class, we can create a Car class and a Bike class that inherit from Vehicle, reusing common properties like speed and methods like accelerate().\n",
    "\n",
    "Encapsulation:\n",
    "Encapsulation is the concept of bundling the data (attributes) and methods that operate on the data into a single unit or class,\n",
    "and restricting access to some of the object's components. \n",
    "This helps protect the internal state of the object and hides the complexity from the outside world. \n",
    "\n",
    "Polymorphism:\n",
    "Polymorphism means \"many forms\". It allows objects of different classes to be treated as objects of a common superclass. \n",
    "The most common use of polymorphism is when a parent class reference is used to refer to a child class object.\n",
    "For example, if Car and Bike both inherit from Vehicle, a Vehicle reference could point to either a Car object or a Bike object. \n",
    "\n",
    "Abstraction:\n",
    "Abstraction is the concept of hiding the complex implementation details and showing only the essential features of the object.\n",
    "It helps in reducing programming complexity and effort.\n",
    "For instance, when you drive a car, you only need to know how to use the pedals and steering wheel. \n",
    "You don't need to know how the engine works internally. In programming, abstraction allows you to focus on what the object does, rather than how it does it.\n",
    "'''\n"
   ]
  },
  {
   "cell_type": "code",
   "execution_count": 14,
   "id": "b02a45c1-84ea-4731-8103-6439470c2ea6",
   "metadata": {},
   "outputs": [
    {
     "name": "stdout",
     "output_type": "stream",
     "text": [
      "Car: 2020 Suzuki Swift\n"
     ]
    }
   ],
   "source": [
    "#2. Write a Python class for a `Car` with attributes for `make`, `model`, and `year`. Include a method to display the car's information?\n",
    "\n",
    "class Car:\n",
    "    def __init__(self, make, model, year):\n",
    "        self.make = make\n",
    "        self.model = model\n",
    "        self.year = year\n",
    "\n",
    "    def display_info(self):\n",
    "        print(f\"Car: {self.year} {self.make} {self.model}\")\n",
    "\n",
    "# Taking example to show usecase\n",
    "my_car = Car(\"Suzuki\", \"Swift\", 2020)\n",
    "my_car.display_info()\n"
   ]
  },
  {
   "cell_type": "code",
   "execution_count": 16,
   "id": "a38fb982-4fd2-4afe-b64c-f8df6a5dd647",
   "metadata": {},
   "outputs": [
    {
     "name": "stdout",
     "output_type": "stream",
     "text": [
      "Car: 2020 Suzuki Swift\n",
      "Total cars: 2\n"
     ]
    }
   ],
   "source": [
    "#3. Explain the difference between instance methods and class methods. Provide an example of each?\n",
    "'''\n",
    "1.Instance Methods:Instance methods are functions defined in a class that operate on an instance of that class. \n",
    "They can access and modify the attributes of the instance (object) they're called on.\n",
    "They use self as their first parameter, which refers to the instance calling the method.\n",
    "\n",
    "2.Class Methods:Class methods are functions that operate on the class itself, rather than instances of the class. \n",
    "They can modify class-level attributes, which are shared among all instances of the class.\n",
    "They use cls as their first parameter, which refers to the class itself.\n",
    "Class methods are marked with the @classmethod decorator.\n",
    "'''\n",
    "#instance method example(we can use ame example as we used in above question)\n",
    "class Car:\n",
    "    def __init__(self, make, model, year):\n",
    "        self.make = make\n",
    "        self.model = model\n",
    "        self.year = year\n",
    "    \n",
    "    def display_info(self):\n",
    "        print(f\"Car: {self.year} {self.make} {self.model}\")\n",
    "\n",
    "# Taking example to show usecase\n",
    "my_car = Car(\"Suzuki\", \"Swift\", 2020)\n",
    "my_car.display_info()  \n",
    "\n",
    "#class method example\n",
    "class Car:\n",
    "    total_cars = 0\n",
    "\n",
    "    def __init__(self, make, model, year):\n",
    "        self.make = make\n",
    "        self.model = model\n",
    "        self.year = year\n",
    "        Car.total_cars += 1\n",
    "\n",
    "    @classmethod\n",
    "    def display_total_cars(cls):\n",
    "        print(f\"Total cars: {cls.total_cars}\")\n",
    "\n",
    "# Example usage\n",
    "car1 = Car(\"Suzuki\", \"Swift\", 2020)\n",
    "car2 = Car(\"Honda\", \"City\", 2021)\n",
    "Car.display_total_cars() \n",
    "\n",
    "#In short, instance methods work with individual objects, while class methods work with the class as a whole. "
   ]
  },
  {
   "cell_type": "code",
   "execution_count": 18,
   "id": "d195922d-bcd4-4153-b0d1-509158d7c0b6",
   "metadata": {},
   "outputs": [
    {
     "name": "stdout",
     "output_type": "stream",
     "text": [
      "5\n",
      "9\n",
      "5\n",
      "9\n",
      "10\n"
     ]
    }
   ],
   "source": [
    "#4.How does Python implement method overloading? Give an example?\n",
    "\n",
    "'''\n",
    "In python method overloading can be implemented using default parameters or by using variable-length arguments with *args and **kwargs.\n",
    "'''\n",
    "#example using default arguments\n",
    "class MathOperations:\n",
    "    def add(self, a, b, c=0):\n",
    "        return a + b + c\n",
    "\n",
    "# Example usage\n",
    "math_ops = MathOperations()\n",
    "print(math_ops.add(2, 3))     \n",
    "print(math_ops.add(2, 3, 4))  \n",
    "#Exampe using *args\n",
    "class MathOperations:\n",
    "    def add(self, *args):\n",
    "        return sum(args)\n",
    "\n",
    "# Example to show usecsase\n",
    "math_ops = MathOperations()\n",
    "print(math_ops.add(2, 3))       \n",
    "print(math_ops.add(2, 3, 4))     \n",
    "print(math_ops.add(1, 2, 3, 4)) \n"
   ]
  },
  {
   "cell_type": "code",
   "execution_count": 22,
   "id": "cb310ef1-b161-48cc-be4b-26c7c2b50a7f",
   "metadata": {},
   "outputs": [],
   "source": [
    "#5.What are the three types of access modifiers in Python? How are they denoted?\n",
    "'''\n",
    "In Python, there are three types of access modifiers that control the visibility of class attributes and methods:\n",
    "\n",
    "1.Public:\n",
    "Public members are accessible from anywhere, both inside and outside the class.\n",
    "Denoted without any leading underscores.\n",
    "2.Protected:\n",
    "Protected members are intended to be accessed within the class and its subclasses.\n",
    "Denoted with a single leading underscore (_).\n",
    "3.Private:\n",
    "Private members are accessible only within the class where they are defined.\n",
    "Denoted with a double leading underscore (__).'''\n",
    "#example public\n",
    "class MyClass:\n",
    "    def __init__(self):\n",
    "        self.public_attr = \"I am public\"\n",
    "#example proteccted\n",
    "class MyClass:\n",
    "    def __init__(self):\n",
    "        self._protected_attr = \"I am protected\"\n",
    "#example private\n",
    "class MyClass:\n",
    "    def __init__(self):\n",
    "        self.__private_attr = \"I am private\"\n"
   ]
  },
  {
   "cell_type": "code",
   "execution_count": 29,
   "id": "267d8fea-e5e2-4d78-bda4-a0a9f39e3f6d",
   "metadata": {},
   "outputs": [
    {
     "name": "stdout",
     "output_type": "stream",
     "text": [
      "Parent1 is speaking.\n",
      "Parent2 is talking.\n",
      "Child is greeting.\n"
     ]
    }
   ],
   "source": [
    "#6.Describe the five types of inheritance in Python. Provide a simple example of multiple inheritance.\n",
    "'''\n",
    "Single Inheritance:\n",
    "Single inheritance means a class (child class) inherits from only one other class (parent class). \n",
    "The child class acquires attributes and methods from the parent class, allowing for code reuse and extending functionality.\n",
    "\n",
    "Multiple Inheritance:\n",
    "Multiple inheritance allows a class to inherit from more than one parent class.\n",
    "This enables the child class to combine behaviors from multiple parents.\n",
    "\n",
    "Multilevel Inheritance:\n",
    "Multilevel inheritance refers to a class inheriting from a parent class, which in turn inherits from another parent class. \n",
    "This creates a chain of inheritance.\n",
    "\n",
    "Hierarchical Inheritance:\n",
    "Hierarchical inheritance occurs when multiple classes inherit from the same parent class. \n",
    "This allows each child class to reuse the parent class's methods and attributes.\n",
    "\n",
    "Hybrid Inheritance:\n",
    "Hybrid inheritance is a combination of two or more types of inheritance, such as multiple and multilevel inheritance. \n",
    "This creates a more complex hierarchy.'''\n",
    "#example of multiple inheritance\n",
    "class Parent1:\n",
    "    def speak(self):\n",
    "        return \"Parent1 is speaking.\" # parent 1 has method speak()\n",
    "\n",
    "class Parent2:\n",
    "    def talk(self):\n",
    "        return \"Parent2 is talking.\" #pafrent 2 has method talk()\n",
    "\n",
    "class Child(Parent1, Parent2):\n",
    "    def greet(self):\n",
    "        return \"Child is greeting.\" # child inherits properties of both parents and its own method greet()\n",
    "\n",
    "# Example usage\n",
    "child_instance = Child()\n",
    "print(child_instance.speak())\n",
    "print(child_instance.talk())  \n",
    "print(child_instance.greet()) \n"
   ]
  },
  {
   "cell_type": "code",
   "execution_count": 31,
   "id": "446582a7-ddd3-4dbf-aa59-36c0aebb8dbc",
   "metadata": {},
   "outputs": [
    {
     "name": "stdout",
     "output_type": "stream",
     "text": [
      "(<class '__main__.C'>, <class '__main__.B'>, <class '__main__.A'>, <class 'object'>)\n"
     ]
    }
   ],
   "source": [
    "#7.What is the Method Resolution Order (MRO) in Python? How can you retrieve it programmatically?\n",
    "'''\n",
    "The Method Resolution Order (MRO) in Python is the order in which methods are resolved in the presence of inheritance, especially multiple inheritance.\n",
    "It determines the hierarchy for searching methods and attributes within a class and its parents.\n",
    "\n",
    "The MRO is crucial when dealing with multiple inheritance because it helps Python determine which method to call when a method is invoked. \n",
    "It follows the C3 linearization algorithm (or C3 superclass linearization) to create a consistent and predictable order.\n",
    "\n",
    "Retrieving MRO Programmatically:\n",
    "We can retrieve the MRO of a class using the __mro__ attribute or the mro() method.\n",
    "'''\n",
    "class A:\n",
    "    pass\n",
    "\n",
    "class B(A):\n",
    "    pass\n",
    "\n",
    "class C(B):\n",
    "    pass\n",
    "\n",
    "print(C.__mro__)\n",
    "\n"
   ]
  },
  {
   "cell_type": "code",
   "execution_count": 33,
   "id": "1704cd95-8cdc-4c4e-9fa4-68a42cc146b1",
   "metadata": {},
   "outputs": [
    {
     "name": "stdout",
     "output_type": "stream",
     "text": [
      "Area of the circle: 78.53981633974483\n",
      "Area of the rectangle: 24\n"
     ]
    }
   ],
   "source": [
    "#8.Create an abstract base class `Shape` with an abstract method `area()`. Then create two subclasses `Circle` and `Rectangle` that implement the `area()` method.\n",
    "\n",
    "from abc import ABC, abstractmethod\n",
    "import math\n",
    "\n",
    "# Abstract base class\n",
    "class Shape(ABC):\n",
    "    @abstractmethod\n",
    "    def area(self):\n",
    "        pass\n",
    "\n",
    "# Subclass Circle\n",
    "class Circle(Shape):\n",
    "    def __init__(self, radius):\n",
    "        self.radius = radius\n",
    "\n",
    "    def area(self):\n",
    "        return math.pi * (self.radius ** 2)\n",
    "\n",
    "# Subclass Rectangle\n",
    "class Rectangle(Shape):\n",
    "    def __init__(self, width, height):\n",
    "        self.width = width\n",
    "        self.height = height\n",
    "\n",
    "    def area(self):\n",
    "        return self.width * self.height\n",
    "\n",
    "# Example usage\n",
    "circle = Circle(5)\n",
    "rectangle = Rectangle(4, 6)\n",
    "\n",
    "print(f\"Area of the circle: {circle.area()}\") \n",
    "print(f\"Area of the rectangle: {rectangle.area()}\")  \n",
    "\n",
    "#Shape is an abstract base class with an abstract method area().Circle and Rectangle are subclasses that implement the area() method.\n",
    "#Creating instances of Circle and Rectangle and calling their area() methods will yield the areas of these shapes\n"
   ]
  },
  {
   "cell_type": "code",
   "execution_count": 35,
   "id": "b52cc3cd-f260-47c2-81e4-e1461eaf4132",
   "metadata": {},
   "outputs": [
    {
     "name": "stdout",
     "output_type": "stream",
     "text": [
      "The area is 78.53981633974483\n",
      "The area is 24\n",
      "The area is 6.0\n"
     ]
    }
   ],
   "source": [
    "#9. Demonstrate polymorphism by creating a function that can work with different shape objects to calculate and print their areas.\n",
    "\n",
    "from abc import ABC, abstractmethod\n",
    "import math\n",
    "\n",
    "# Abstract base class\n",
    "class Shape(ABC):\n",
    "    @abstractmethod\n",
    "    def area(self):\n",
    "        pass\n",
    "\n",
    "# Subclass Circle\n",
    "class Circle(Shape):\n",
    "    def __init__(self, radius):\n",
    "        self.radius = radius\n",
    "\n",
    "    def area(self):\n",
    "        return math.pi * (self.radius ** 2)\n",
    "\n",
    "# Subclass Rectangle\n",
    "class Rectangle(Shape):\n",
    "    def __init__(self, width, height):\n",
    "        self.width = width\n",
    "        self.height = height\n",
    "\n",
    "    def area(self):\n",
    "        return self.width * self.height\n",
    "\n",
    "# Subclass Triangle\n",
    "class Triangle(Shape):\n",
    "    def __init__(self, base, height):\n",
    "        self.base = base\n",
    "        self.height = height\n",
    "\n",
    "    def area(self):\n",
    "        return 0.5 * self.base * self.height\n",
    "\n",
    "# Function to calculate and print area of any shape\n",
    "def print_area(shape):\n",
    "    print(f\"The area is {shape.area()}\")\n",
    "\n",
    "# Example usage\n",
    "shapes = [Circle(5), Rectangle(4, 6), Triangle(3, 4)]\n",
    "\n",
    "for shape in shapes:\n",
    "    print_area(shape)\n",
    "\n",
    "#We have an abstract base class Shape with an abstract method area().Circle, Rectangle, and Triangle are subclasses that implement the area() method.\n",
    "#The print_area function takes a Shape object and prints its area, demonstrating polymorphism by handling different shape objects uniformly."
   ]
  },
  {
   "cell_type": "code",
   "execution_count": 37,
   "id": "1f5f80e3-9e70-4ca5-8e16-f96ef5967111",
   "metadata": {},
   "outputs": [
    {
     "name": "stdout",
     "output_type": "stream",
     "text": [
      "Deposited 500. New balance: 1500\n",
      "Withdrew 200. New balance: 1300\n",
      "Current balance: 1300\n",
      "Account Number: 12345678\n"
     ]
    }
   ],
   "source": [
    "#10.  Implement encapsulation in a `BankAccount` class with private attributes for `balance` and `account_number`. Include methods for deposit, withdrawal, and balance inquiry.\n",
    "\n",
    "class BankAccount:\n",
    "    def __init__(self, account_number, initial_balance=0):\n",
    "        self.__account_number = account_number\n",
    "        self.__balance = initial_balance\n",
    "\n",
    "    def deposit(self, amount):\n",
    "        if amount > 0:\n",
    "            self.__balance += amount\n",
    "            return f\"Deposited {amount}. New balance: {self.__balance}\"\n",
    "        else:\n",
    "            return \"Deposit amount must be positive.\"\n",
    "\n",
    "    def withdraw(self, amount):\n",
    "        if 0 < amount <= self.__balance:\n",
    "            self.__balance -= amount\n",
    "            return f\"Withdrew {amount}. New balance: {self.__balance}\"\n",
    "        else:\n",
    "            return \"Withdrawal amount must be positive and less than or equal to the balance.\"\n",
    "\n",
    "    def get_balance(self):\n",
    "        return f\"Current balance: {self.__balance}\"\n",
    "\n",
    "    def get_account_number(self):\n",
    "        return f\"Account Number: {self.__account_number}\"\n",
    "\n",
    "# Example usage\n",
    "account = BankAccount(\"12345678\", 1000)\n",
    "print(account.deposit(500))          \n",
    "print(account.withdraw(200))         \n",
    "print(account.get_balance())         \n",
    "print(account.get_account_number()) \n",
    "\n"
   ]
  },
  {
   "cell_type": "code",
   "execution_count": 39,
   "id": "4d66ef47-4e93-44e6-8395-76b158d8a4bf",
   "metadata": {},
   "outputs": [
    {
     "name": "stdout",
     "output_type": "stream",
     "text": [
      "Vector(2, 3)\n",
      "Vector(4, 5)\n",
      "Vector(6, 8)\n"
     ]
    }
   ],
   "source": [
    "#11. Write a class that overrides the `__str__` and `__add__` magic methods. What will these methods allow you to do?\n",
    "\n",
    "class Vector:\n",
    "    def __init__(self, x, y):\n",
    "        self.x = x\n",
    "        self.y = y\n",
    "\n",
    "    def __str__(self):\n",
    "        return f\"Vector({self.x}, {self.y})\"\n",
    "\n",
    "    def __add__(self, other):\n",
    "        return Vector(self.x + other.x, self.y + other.y)\n",
    "\n",
    "# Example usage\n",
    "v1 = Vector(2, 3)\n",
    "v2 = Vector(4, 5)\n",
    "v3 = v1 + v2\n",
    "\n",
    "print(v1) \n",
    "print(v2)  \n",
    "print(v3)  \n"
   ]
  },
  {
   "cell_type": "code",
   "execution_count": 41,
   "id": "0599b34f-9515-4895-9e11-ad5bbce1e91c",
   "metadata": {},
   "outputs": [
    {
     "name": "stdout",
     "output_type": "stream",
     "text": [
      "example_function took 2.0033 seconds to execute\n"
     ]
    }
   ],
   "source": [
    "#12. Create a decorator that measures and prints the execution time of a function?\n",
    "\n",
    "# Decorators are a great way to add functionality to functions in a clean and readable manner\n",
    "\n",
    "import time\n",
    "\n",
    "def timing_decorator(func):\n",
    "    def wrapper(*args, **kwargs):\n",
    "        start_time = time.time()  # Record the start time\n",
    "        result = func(*args, **kwargs)  # Call the actual function\n",
    "        end_time = time.time()  # Record the end time\n",
    "        execution_time = end_time - start_time  # Calculate the execution time\n",
    "        print(f\"{func.__name__} took {execution_time:.4f} seconds to execute\")\n",
    "        return result\n",
    "    return wrapper\n",
    "\n",
    "# Example usage\n",
    "@timing_decorator\n",
    "def example_function(seconds):\n",
    "    time.sleep(seconds)\n",
    "\n",
    "example_function(2)  \n"
   ]
  },
  {
   "cell_type": "code",
   "execution_count": 75,
   "id": "b65dfa5c-9271-46bd-8b52-e2b5daacde8d",
   "metadata": {},
   "outputs": [
    {
     "name": "stdout",
     "output_type": "stream",
     "text": [
      "Method from class D\n",
      "Method from class B\n",
      "Method from class C\n",
      "Method from class A\n",
      "[<class '__main__.D'>, <class '__main__.B'>, <class '__main__.C'>, <class '__main__.A'>, <class 'object'>]\n"
     ]
    }
   ],
   "source": [
    "#13. Explain the concept of the Diamond Problem in multiple inheritance. How does Python resolve it?\n",
    "\n",
    "#The Diamond Problem occurs in multiple inheritance when a class inherits from two classes that both inherit from a common parent class. \n",
    "#This creates a \"diamond-shaped\" inheritance pattern and can lead to ambiguity about which parent class's method or\n",
    "#attribute should be inherited by the bottom-most class.\n",
    "\n",
    "#    A\n",
    "#   / \\\n",
    "#  B   C\n",
    "#   \\ /\n",
    "#    D\n",
    "\n",
    "#In this case, class D inherits from both B and C, which in turn both inherit from A. If A has a method that D wants to use, \n",
    "#it's unclear which path D should follow: through B or C.\n",
    "\n",
    "'''\n",
    "How Python solves thia problem-->\n",
    "Python resolves the Diamond Problem using the C3 linearization algorithm, which ensures a consistent and predictable method resolution order (MRO). \n",
    "This order dictates the sequence in which base classes are searched when a method is called. \n",
    "Python uses the super() function to delegate method calls to the next class in the MRO.\n",
    "\n",
    "We can retrieve the MRO of a class using the mro() method or the __mro__ attribute.\n",
    "'''\n",
    "\n",
    "class A:\n",
    "    def method(self):\n",
    "        print(\"Method from class A\")\n",
    "\n",
    "class B(A):\n",
    "    def method(self):\n",
    "        print(\"Method from class B\")\n",
    "        super().method()\n",
    "\n",
    "class C(A):\n",
    "    def method(self):\n",
    "        print(\"Method from class C\")\n",
    "        super().method()\n",
    "\n",
    "class D(B, C):\n",
    "    def method(self):\n",
    "        print(\"Method from class D\")\n",
    "        super().method()\n",
    "\n",
    "# Creating an instance of D\n",
    "d = D()\n",
    "d.method()\n",
    "print(D.mro())\n"
   ]
  },
  {
   "cell_type": "code",
   "execution_count": 81,
   "id": "84a68bf5-2ab6-420d-961c-efc955b0b331",
   "metadata": {},
   "outputs": [
    {
     "name": "stdout",
     "output_type": "stream",
     "text": [
      "3\n"
     ]
    }
   ],
   "source": [
    "#14. Write a class method that keeps track of the number of instances created from a class.\n",
    "\n",
    "class InstanceCounter:\n",
    "    count = 0  # Class attribute to keep track of the count\n",
    "\n",
    "    def __init__(self):\n",
    "        InstanceCounter.increment_count()\n",
    "\n",
    "    @classmethod\n",
    "    def increment_count(cls):\n",
    "        cls.count += 1\n",
    "\n",
    "    @classmethod\n",
    "    def get_count(cls):\n",
    "        return cls.count\n",
    "\n",
    "# Example fro us e case\n",
    "obj1 = InstanceCounter()\n",
    "obj2 = InstanceCounter()\n",
    "obj3 = InstanceCounter()\n",
    "\n",
    "print(InstanceCounter.get_count())  \n",
    "\n",
    "#count is a class attribute that keeps track of the number of instances created.\n",
    "\n",
    "#increment_count is a class method that increments the count each time an instance is created.\n",
    "\n",
    "#get_count is a class method that returns the current count of instances."
   ]
  },
  {
   "cell_type": "code",
   "execution_count": 87,
   "id": "4f54c56d-7cb2-46e5-8362-7af661380034",
   "metadata": {},
   "outputs": [
    {
     "name": "stdout",
     "output_type": "stream",
     "text": [
      "True\n",
      "False\n"
     ]
    }
   ],
   "source": [
    "#!5. Implement a static method in a class that checks if a given year is a leap year?\n",
    "\n",
    "#This is how we can implement a static method in a class to check if a given year is a leap year:\n",
    "\n",
    "class DateUtils:\n",
    "    @staticmethod\n",
    "    def is_leap_year(year):\n",
    "        if (year % 4 == 0 and year % 100 != 0) or (year % 400 == 0):\n",
    "            return True\n",
    "        return False\n",
    "\n",
    "# Example usage\n",
    "print(DateUtils.is_leap_year(2020))  \n",
    "print(DateUtils.is_leap_year(2021))  \n",
    "\n",
    "\n",
    "#is_leap_year is a static method, indicated by the @staticmethod decorator.\n",
    "\n",
    "#The method checks if a year is a leap year based on the rules:\n",
    "# year is a leap year if it is divisible by 4 and not divisible by 100, or it is divisible by 400.\n",
    "#The method returns True if the given year is a leap year, and False otherwise.\n"
   ]
  },
  {
   "cell_type": "code",
   "execution_count": null,
   "id": "7538b373-dd7b-4125-92ed-ec0263fff458",
   "metadata": {},
   "outputs": [],
   "source": []
  }
 ],
 "metadata": {
  "kernelspec": {
   "display_name": "Python 3 (ipykernel)",
   "language": "python",
   "name": "python3"
  },
  "language_info": {
   "codemirror_mode": {
    "name": "ipython",
    "version": 3
   },
   "file_extension": ".py",
   "mimetype": "text/x-python",
   "name": "python",
   "nbconvert_exporter": "python",
   "pygments_lexer": "ipython3",
   "version": "3.12.4"
  }
 },
 "nbformat": 4,
 "nbformat_minor": 5
}
